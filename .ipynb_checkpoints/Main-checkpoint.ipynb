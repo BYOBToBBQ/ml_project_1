{
 "cells": [
  {
   "cell_type": "code",
   "execution_count": 1,
   "metadata": {},
   "outputs": [],
   "source": [
    "#main notebook\n",
    "import numpy as np\n",
    "from numpy.linalg import inv\n",
    "from numpy import linalg as la\n",
    "from implementations import *\n"
   ]
  },
  {
   "cell_type": "code",
   "execution_count": 81,
   "metadata": {},
   "outputs": [
    {
     "ename": "NameError",
     "evalue": "name 'remove_outliers' is not defined",
     "output_type": "error",
     "traceback": [
      "\u001b[0;31m---------------------------------------------------------------------------\u001b[0m",
      "\u001b[0;31mNameError\u001b[0m                                 Traceback (most recent call last)",
      "\u001b[0;32m<ipython-input-81-605091838162>\u001b[0m in \u001b[0;36m<module>\u001b[0;34m()\u001b[0m\n\u001b[1;32m      4\u001b[0m \u001b[0;34m\u001b[0m\u001b[0m\n\u001b[1;32m      5\u001b[0m \u001b[0;34m\u001b[0m\u001b[0m\n\u001b[0;32m----> 6\u001b[0;31m \u001b[0my\u001b[0m\u001b[0;34m,\u001b[0m \u001b[0mtx\u001b[0m\u001b[0;34m,\u001b[0m \u001b[0mids\u001b[0m \u001b[0;34m=\u001b[0m \u001b[0mload_csv_data\u001b[0m\u001b[0;34m(\u001b[0m\u001b[0;34m\"train.csv\"\u001b[0m\u001b[0;34m)\u001b[0m\u001b[0;34m\u001b[0m\u001b[0m\n\u001b[0m",
      "\u001b[0;32m<ipython-input-80-b33b6d298069>\u001b[0m in \u001b[0;36mload_csv_data\u001b[0;34m(data_path, sub_sample)\u001b[0m\n\u001b[1;32m     11\u001b[0m \u001b[0;34m\u001b[0m\u001b[0m\n\u001b[1;32m     12\u001b[0m     \u001b[0;31m#remove outliers\u001b[0m\u001b[0;34m\u001b[0m\u001b[0;34m\u001b[0m\u001b[0m\n\u001b[0;32m---> 13\u001b[0;31m     \u001b[0;32mif\u001b[0m \u001b[0mremove_outliers\u001b[0m\u001b[0;34m:\u001b[0m\u001b[0;34m\u001b[0m\u001b[0m\n\u001b[0m\u001b[1;32m     14\u001b[0m         \u001b[0mi\u001b[0m \u001b[0;34m=\u001b[0m \u001b[0;36m0\u001b[0m\u001b[0;34m\u001b[0m\u001b[0m\n\u001b[1;32m     15\u001b[0m         \u001b[0;32mwhile\u001b[0m \u001b[0mi\u001b[0m \u001b[0;34m<\u001b[0m \u001b[0mlen\u001b[0m\u001b[0;34m(\u001b[0m\u001b[0myb\u001b[0m\u001b[0;34m)\u001b[0m \u001b[0;34m:\u001b[0m\u001b[0;34m\u001b[0m\u001b[0m\n",
      "\u001b[0;31mNameError\u001b[0m: name 'remove_outliers' is not defined"
     ]
    }
   ],
   "source": [
    "#load data\n",
    "import datetime\n",
    "from helpers import *\n",
    "\n",
    "\n",
    "y, tx, ids = load_csv_data(\"train.csv\")"
   ]
  },
  {
   "cell_type": "code",
   "execution_count": 154,
   "metadata": {},
   "outputs": [],
   "source": [
    "def load_csv_data(data_path, sub_sample=False, remove_outliers=False, skip_n_header=1, skip_n_footer=0):\n",
    "    \"\"\"Loads data and returns y (class labels), tX (features) and ids (event ids)\"\"\"\n",
    "    y = np.genfromtxt(data_path, delimiter=\",\", skip_header=skip_n_header, skip_footer=skip_n_footer, dtype=str, usecols=1)\n",
    "    x = np.genfromtxt(data_path, delimiter=\",\", skip_header=skip_n_header, skip_footer=skip_n_footer)\n",
    "    ids = x[:, 0].astype(np.int)\n",
    "    input_data = x[:, 2:]\n",
    "\n",
    "    # convert class labels from strings to binary (-1,1)\n",
    "    yb = np.ones(len(y))\n",
    "    yb[np.where(y=='b')] = -1\n",
    "    \n",
    "    #remove outliers\n",
    "    if remove_outliers:\n",
    "        i = len(yb)-1\n",
    "        while i > 0 :\n",
    "            if np.sum(input_data[i]) < 0 :\n",
    "                yb = np.delete(yb, (i), axis=0)\n",
    "                input_data = np.delete(input_data, (i), axis=0)\n",
    "                ids = np.delete(ids, (i), axis=0)\n",
    "            i-=1\n",
    "               \n",
    "    # sub-sample\n",
    "    if sub_sample:\n",
    "        yb = yb[::50]\n",
    "        input_data = input_data[::50]\n",
    "        ids = ids[::50]\n",
    "\n",
    "    return yb, input_data, ids\n"
   ]
  },
  {
   "cell_type": "code",
   "execution_count": 155,
   "metadata": {
    "scrolled": false
   },
   "outputs": [
    {
     "data": {
      "text/plain": [
       "(array([ 1., -1., -1., ..., -1., -1.,  1.]),\n",
       " array([[ 138.47 ,   51.655,   97.827, ...,    1.24 ,   -2.475,  113.497],\n",
       "        [ 160.937,   68.768,  103.235, ..., -999.   , -999.   ,   46.226],\n",
       "        [-999.   ,  162.172,  125.953, ..., -999.   , -999.   ,   44.251],\n",
       "        ...,\n",
       "        [ 108.994,   99.274,   76.11 , ..., -999.   , -999.   ,    0.   ],\n",
       "        [  85.526,    1.362,   54.702, ...,   -3.454,    1.703,   74.372],\n",
       "        [ 140.919,   10.449,   87.835, ..., -999.   , -999.   ,    0.   ]]),\n",
       " array([100000, 100001, 100002, ..., 249997, 249998, 249999]),\n",
       " (150000, 31))"
      ]
     },
     "execution_count": 155,
     "metadata": {},
     "output_type": "execute_result"
    }
   ],
   "source": [
    "y, datas, ids = load_csv_data(\"train.csv\", skip_n_footer=100000)\n",
    "y, datas, ids, np.shape(tx)\n"
   ]
  },
  {
   "cell_type": "code",
   "execution_count": 158,
   "metadata": {},
   "outputs": [],
   "source": [
    "def standardize(x):\n",
    "    \"\"\"Standardize the original data set.\"\"\"\n",
    "    mean_x = np.mean(x)\n",
    "    x = x - mean_x\n",
    "    std_x = np.std(x)\n",
    "    x = x / std_x\n",
    "    return x \n",
    "\n",
    "def create_tx(datas):\n",
    "    for i in range(np.shape(datas)[1]) :\n",
    "        datas[:,i] = standardize(datas[:,i])\n",
    "    tx = np.c_[np.ones(np.shape(datas)[0]), datas]\n",
    "    return tx"
   ]
  },
  {
   "cell_type": "code",
   "execution_count": 159,
   "metadata": {},
   "outputs": [],
   "source": [
    "tx = create_tx(datas)"
   ]
  },
  {
   "cell_type": "code",
   "execution_count": 160,
   "metadata": {},
   "outputs": [
    {
     "data": {
      "text/plain": [
       "array([[ 1.        ,  0.46258285,  0.06311146, ...,  1.56415041,\n",
       "         1.55597183,  0.41181384],\n",
       "       [ 1.        ,  0.51778603,  0.54542781, ..., -0.64044489,\n",
       "        -0.64044526, -0.27394598],\n",
       "       [ 1.        , -2.33227056,  3.17794553, ..., -0.64044489,\n",
       "        -0.64044526, -0.2940791 ],\n",
       "       ...,\n",
       "       [ 1.        ,  0.39015799,  1.40521524, ..., -0.64044489,\n",
       "        -0.64044526, -0.7451733 ],\n",
       "       [ 1.        ,  0.33249527, -1.35435689, ...,  1.55380452,\n",
       "         1.56518046,  0.01297403],\n",
       "       [ 1.        ,  0.46860023, -1.09824699, ..., -0.64044489,\n",
       "        -0.64044526, -0.7451733 ]])"
      ]
     },
     "execution_count": 160,
     "metadata": {},
     "output_type": "execute_result"
    }
   ],
   "source": [
    "tx"
   ]
  },
  {
   "cell_type": "code",
   "execution_count": 152,
   "metadata": {},
   "outputs": [
    {
     "data": {
      "text/plain": [
       "(0.34000498223716596,\n",
       " array([-3.15706666e-01,  3.11601775e-02, -2.47285285e-01, -2.32379448e-01,\n",
       "        -1.27867569e-02, -2.10901331e-02,  3.53333864e-01, -2.93365535e-02,\n",
       "         2.49768163e-01, -9.49505335e-03,  1.22689574e-04, -1.52962286e-01,\n",
       "         1.17521259e-01, -2.31869648e-02,  2.02950078e-01, -2.98924433e-03,\n",
       "        -2.72955009e-03,  2.49067443e-01,  6.55359156e-04,  1.26845630e-03,\n",
       "         1.11137791e-01, -4.96824997e-04, -7.05910331e-02, -1.42373355e-01,\n",
       "         3.85899880e-02,  4.23303434e-02,  4.22643357e-02, -2.59357024e-02,\n",
       "        -2.39832055e-02, -2.41465587e-02, -1.01676390e-01]))"
      ]
     },
     "execution_count": 152,
     "metadata": {},
     "output_type": "execute_result"
    }
   ],
   "source": [
    "#finds the w via gradient descent\n",
    "L,w =least_squares_GD(y,tx, np.zeros(np.shape(tx)[1]),200,0.1)\n",
    "L,w"
   ]
  },
  {
   "cell_type": "code",
   "execution_count": 161,
   "metadata": {},
   "outputs": [],
   "source": [
    "y_real, data_test, id_test = load_csv_data(\"train.csv\",skip_n_header=200000)\n",
    "tx_test = create_tx(data_test)"
   ]
  },
  {
   "cell_type": "code",
   "execution_count": 162,
   "metadata": {},
   "outputs": [],
   "source": [
    "y_evaluated = tx_test @ w"
   ]
  },
  {
   "cell_type": "code",
   "execution_count": 180,
   "metadata": {},
   "outputs": [
    {
     "data": {
      "text/plain": [
       "array([-1., -1., -1., ..., -1.,  1., -1.])"
      ]
     },
     "execution_count": 180,
     "metadata": {},
     "output_type": "execute_result"
    }
   ],
   "source": [
    "y_predicted = np.array([])\n",
    "sorted_y = np.sort(y_evaluated)\n",
    "special_mean = sorted_y[int(len(sorted_y)/2 - np.sum(y_evaluated)/2)]\n",
    "for y in np.nditer(y_evaluated) :\n",
    "    y_predicted = np.append(y_predicted, -1 if y < special_mean else 1)\n",
    "y_predicted"
   ]
  },
  {
   "cell_type": "code",
   "execution_count": 181,
   "metadata": {},
   "outputs": [
    {
     "data": {
      "text/plain": [
       "array([-3.61096876, -3.00082722, -2.93134027, ...,  2.9798361 ,\n",
       "        3.08742585,  4.78075635])"
      ]
     },
     "execution_count": 181,
     "metadata": {},
     "output_type": "execute_result"
    }
   ],
   "source": [
    "sorted_y"
   ]
  },
  {
   "cell_type": "code",
   "execution_count": 182,
   "metadata": {},
   "outputs": [
    {
     "data": {
      "text/plain": [
       "(-15785.649028863096, -15785.0, -15675.0, 9215.0)"
      ]
     },
     "execution_count": 182,
     "metadata": {},
     "output_type": "execute_result"
    }
   ],
   "source": [
    "np.sum(y_evaluated), np.sum(y_predicted), np.sum(y_real), np.rint(len(sorted_y)/2 + np.sum(y_evaluated))"
   ]
  },
  {
   "cell_type": "code",
   "execution_count": 186,
   "metadata": {},
   "outputs": [
    {
     "data": {
      "text/plain": [
       "0.253694926101478"
      ]
     },
     "execution_count": 186,
     "metadata": {},
     "output_type": "execute_result"
    }
   ],
   "source": [
    "np.sum(((y_predicted-y_real)/2)**2)/len(y_real)"
   ]
  },
  {
   "cell_type": "code",
   "execution_count": null,
   "metadata": {},
   "outputs": [],
   "source": []
  },
  {
   "cell_type": "code",
   "execution_count": null,
   "metadata": {},
   "outputs": [],
   "source": []
  },
  {
   "cell_type": "code",
   "execution_count": null,
   "metadata": {},
   "outputs": [],
   "source": []
  },
  {
   "cell_type": "code",
   "execution_count": 90,
   "metadata": {},
   "outputs": [],
   "source": [
    "#import the datas for creating the model\n",
    "path_dataset = \"train.csv\"\n",
    "data = np.genfromtxt(path_dataset, delimiter=\",\", skip_header=1,usecols= [3,4,5] )"
   ]
  },
  {
   "cell_type": "code",
   "execution_count": 98,
   "metadata": {},
   "outputs": [
    {
     "name": "stdout",
     "output_type": "stream",
     "text": [
      "[[ 51.655  97.827  27.98 ]\n",
      " [ 68.768 103.235  48.146]\n",
      " [162.172 125.953  35.635]\n",
      " ...\n",
      " [ 60.526  75.839  39.757]\n",
      " [ 19.362  68.812  13.504]\n",
      " [ 72.756  70.831   7.479]]\n"
     ]
    },
    {
     "data": {
      "text/plain": [
       "array([ 68.768, 103.235,  48.146])"
      ]
     },
     "execution_count": 98,
     "metadata": {},
     "output_type": "execute_result"
    }
   ],
   "source": [
    "\n",
    "np.shape(data)\n",
    "print(data)\n",
    "np.delete(data,(1),axis=0)\n",
    "data[1]"
   ]
  },
  {
   "cell_type": "code",
   "execution_count": 31,
   "metadata": {},
   "outputs": [],
   "source": [
    "sb = np.genfromtxt(\"train.csv\", dtype = str, delimiter=\",\", skip_header=1, skip_footer=50000, usecols=1)\n",
    "SB = np.array([])\n",
    "for i in sb: \n",
    "    SB = np.append(SB,0 if i == 's' else 1)"
   ]
  },
  {
   "cell_type": "code",
   "execution_count": null,
   "metadata": {},
   "outputs": [],
   "source": []
  },
  {
   "cell_type": "code",
   "execution_count": 45,
   "metadata": {},
   "outputs": [
    {
     "data": {
      "text/plain": [
       "array([[ 1.        , -0.22239874,  0.70041702, -0.69557866],\n",
       "       [ 1.        ,  0.1196299 ,  0.80850391, -0.2925313 ],\n",
       "       [ 1.        ,  1.98644709,  1.26255676, -0.54258215],\n",
       "       ...,\n",
       "       [ 1.        , -0.01749734,  0.02125644,  0.03350815],\n",
       "       [ 1.        ,  0.37365806, -0.15408495, -1.2491442 ],\n",
       "       [ 1.        ,  0.13797749,  0.73781173, -0.67425308]])"
      ]
     },
     "execution_count": 45,
     "metadata": {},
     "output_type": "execute_result"
    }
   ],
   "source": [
    "num_samples = len(SB)\n",
    "tx = np.c_[np.ones(num_samples), data]\n",
    "tx"
   ]
  },
  {
   "cell_type": "code",
   "execution_count": 60,
   "metadata": {},
   "outputs": [],
   "source": [
    "L,w =least_squares_GD(standardize(SB)[0],tx, [0,0,0,0],200,0.1)"
   ]
  },
  {
   "cell_type": "code",
   "execution_count": 61,
   "metadata": {},
   "outputs": [
    {
     "data": {
      "text/plain": [
       "(0.43093491086929886,\n",
       " array([ 0.14320443,  0.47081878, -0.06982675, -0.08973428]))"
      ]
     },
     "execution_count": 61,
     "metadata": {},
     "output_type": "execute_result"
    }
   ],
   "source": [
    "L,w\n"
   ]
  },
  {
   "cell_type": "code",
   "execution_count": 48,
   "metadata": {},
   "outputs": [
    {
     "data": {
      "text/plain": [
       "(50000, 3)"
      ]
     },
     "execution_count": 48,
     "metadata": {},
     "output_type": "execute_result"
    }
   ],
   "source": [
    "data_test = np.genfromtxt(\"train.csv\", delimiter=\",\", skip_header=200001, usecols= [3,4,5] )\n",
    "data_test, mean_x, std_x = standardize(data_test)\n",
    "np.shape(data_test)"
   ]
  },
  {
   "cell_type": "code",
   "execution_count": 40,
   "metadata": {},
   "outputs": [],
   "source": [
    "sb_test = np.genfromtxt(\"train.csv\", dtype = str, delimiter=\",\", skip_header=200001, usecols=1)\n",
    "SB_test = np.array([])\n",
    "for i in sb_test: \n",
    "    SB_test = np.append(SB_test,0 if i == 's' else 1)\n"
   ]
  },
  {
   "cell_type": "code",
   "execution_count": 49,
   "metadata": {},
   "outputs": [
    {
     "data": {
      "text/plain": [
       "array([[ 1.        ,  0.74100665,  0.44790861, -0.6610894 ],\n",
       "       [ 1.        , -0.77799727, -0.32603467, -0.22190143],\n",
       "       [ 1.        ,  0.05888105,  0.41926549, -0.46988904],\n",
       "       ...,\n",
       "       [ 1.        , -0.04405456,  0.26159855, -0.45861143],\n",
       "       [ 1.        , -0.86570312,  0.12133704, -0.98263096],\n",
       "       [ 1.        ,  0.20006073,  0.16163703, -1.10289217]])"
      ]
     },
     "execution_count": 49,
     "metadata": {},
     "output_type": "execute_result"
    }
   ],
   "source": [
    "num_samples = len(SB_test)\n",
    "tx_test = np.c_[np.ones(num_samples), data_test]\n",
    "tx_test"
   ]
  },
  {
   "cell_type": "code",
   "execution_count": 63,
   "metadata": {},
   "outputs": [],
   "source": [
    "Y_test = tx_test @ w"
   ]
  },
  {
   "cell_type": "code",
   "execution_count": 68,
   "metadata": {},
   "outputs": [],
   "source": [
    "res = np.array([])\n",
    "mean = standardize(SB)[1]\n",
    "for y in Y_test :\n",
    "    res = np.append(res, 0 if y < mean else 1)"
   ]
  },
  {
   "cell_type": "code",
   "execution_count": 69,
   "metadata": {},
   "outputs": [
    {
     "data": {
      "text/plain": [
       "(array([ 0.52013066, -0.18041319,  0.18381595,  0.22603976,  0.3817129 ,\n",
       "        -0.30583385,  0.06966408,  0.46115635,  0.15767803, -0.48368688,\n",
       "        -0.15350885,  0.25030378,  0.13419517,  0.3884125 , -0.39979502,\n",
       "        -0.00933673,  0.53627554,  0.21850201,  0.10662062, -0.38788442]),\n",
       " array([0., 0., 0., 0., 0., 0., 0., 0., 0., 0., 0., 0., 0., 0., 0., 0., 0.,\n",
       "        0., 0., 0.]))"
      ]
     },
     "execution_count": 69,
     "metadata": {},
     "output_type": "execute_result"
    }
   ],
   "source": [
    "Y_test[0:20], res[0:20]"
   ]
  },
  {
   "cell_type": "code",
   "execution_count": 70,
   "metadata": {},
   "outputs": [
    {
     "data": {
      "text/plain": [
       "0.642"
      ]
     },
     "execution_count": 70,
     "metadata": {},
     "output_type": "execute_result"
    }
   ],
   "source": [
    "np.sum( (res- SB_test)**2) / len(SB_test)"
   ]
  },
  {
   "cell_type": "code",
   "execution_count": null,
   "metadata": {},
   "outputs": [],
   "source": []
  }
 ],
 "metadata": {
  "kernelspec": {
   "display_name": "Python 3",
   "language": "python",
   "name": "python3"
  },
  "language_info": {
   "codemirror_mode": {
    "name": "ipython",
    "version": 3
   },
   "file_extension": ".py",
   "mimetype": "text/x-python",
   "name": "python",
   "nbconvert_exporter": "python",
   "pygments_lexer": "ipython3",
   "version": "3.6.5"
  }
 },
 "nbformat": 4,
 "nbformat_minor": 2
}

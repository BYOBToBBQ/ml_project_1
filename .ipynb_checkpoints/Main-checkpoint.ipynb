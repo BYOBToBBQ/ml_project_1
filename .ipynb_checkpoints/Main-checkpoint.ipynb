{
 "cells": [
  {
   "cell_type": "code",
   "execution_count": 2,
   "metadata": {
    "collapsed": true
   },
   "outputs": [],
   "source": [
    "#main notebook\n",
    "import numpy as np\n",
    "import helpers\n",
    "from numpy.linalg import inv\n",
    "from numpy import linalg as la"
   ]
  },
  {
   "cell_type": "code",
   "execution_count": 4,
   "metadata": {
    "collapsed": true
   },
   "outputs": [],
   "source": []
  },
  {
   "cell_type": "code",
   "execution_count": null,
   "metadata": {
    "collapsed": true
   },
   "outputs": [],
   "source": []
  },
  {
   "cell_type": "code",
   "execution_count": 1,
   "metadata": {
    "collapsed": true
   },
   "outputs": [],
   "source": [
    "def least_squares_GD(y, tx, initial_w, max_iters, gamma) :\n",
    "    \n",
    "    #initialize w\n",
    "    w = initial_w\n",
    "    \n",
    "    #loop for the iterations of the gradient\n",
    "    for loop in range(max_iters):\n",
    "        \n",
    "        #computes the errors and the gradient\n",
    "        e = y - tx.dot(w)\n",
    "        grad = -tx.T.dot(e) / len(e)\n",
    "        \n",
    "        #calcultate the loss through the mean square method\n",
    "        loss = 1/2*np.mean(e**2)\n",
    "        \n",
    "        #gradient descent\n",
    "        w = w - grad * gamma\n",
    "\n",
    "    return loss, w"
   ]
  },
  {
   "cell_type": "code",
   "execution_count": 3,
   "metadata": {
    "collapsed": true
   },
   "outputs": [],
   "source": [
    "def least_squares(y,tx):\n",
    "    w = inv(tx.T@tx)@tx.T@y\n",
    "    e=(y-tx@w)\n",
    "    loss = (1/(2*len(y)))*np.mean(e**2)\n",
    "    return loss,w"
   ]
  },
  {
   "cell_type": "code",
   "execution_count": 4,
   "metadata": {},
   "outputs": [
    {
     "data": {
      "text/plain": [
       "(0.0, array([ 1.,  1.]))"
      ]
     },
     "execution_count": 4,
     "metadata": {},
     "output_type": "execute_result"
    }
   ],
   "source": [
    "least_squares([1,1],np.eye(2))\n"
   ]
  },
  {
   "cell_type": "code",
   "execution_count": 6,
   "metadata": {},
   "outputs": [
    {
     "name": "stdout",
     "output_type": "stream",
     "text": [
      "(2, 2)\n"
     ]
    }
   ],
   "source": [
    "print(np.eye(2).shape)"
   ]
  },
  {
   "cell_type": "code",
   "execution_count": 8,
   "metadata": {},
   "outputs": [],
   "source": [
    "def ridge_regression(y, tx, lambda_):\n",
    "    lambda_prime = lambda_*len(y)\n",
    "    w = inv(tx.T@tx + lambda_prime*np.eye(tx.shape[1]))@tx.T@y\n",
    "    e=(y-tx@w)\n",
    "    loss = (1/(2*len(y)))*np.mean(e**2)\n",
    "    return loss,w"
   ]
  },
  {
   "cell_type": "code",
   "execution_count": null,
   "metadata": {
    "collapsed": true
   },
   "outputs": [],
   "source": []
  }
 ],
 "metadata": {
  "kernelspec": {
   "display_name": "Python 3",
   "language": "python",
   "name": "python3"
  },
  "language_info": {
   "codemirror_mode": {
    "name": "ipython",
    "version": 3
   },
   "file_extension": ".py",
   "mimetype": "text/x-python",
   "name": "python",
   "nbconvert_exporter": "python",
   "pygments_lexer": "ipython3",
   "version": "3.6.1"
  }
 },
 "nbformat": 4,
 "nbformat_minor": 2
}

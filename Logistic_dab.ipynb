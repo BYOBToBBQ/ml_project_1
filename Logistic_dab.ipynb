{
 "cells": [
  {
   "cell_type": "code",
   "execution_count": 1,
   "metadata": {},
   "outputs": [],
   "source": [
    "from project_helpers import load_csv_data\n",
    "import csv\n",
    "import numpy as np\n",
    "import pandas as pd\n",
    "import math"
   ]
  },
  {
   "cell_type": "code",
   "execution_count": 2,
   "metadata": {},
   "outputs": [],
   "source": [
    "#Compute sigmoid function\n",
    "def sigmoid(z):\n",
    "    #return 1 / (1+np.exp(-z))\n",
    "    #This approximation of the sigmoid function avoids exp overflow\n",
    "    return .5 * (1 + np.tanh(.5 * z))"
   ]
  },
  {
   "cell_type": "code",
   "execution_count": 3,
   "metadata": {},
   "outputs": [],
   "source": [
    "#Compute loss function\n",
    "def loss_f_lr(h, y):\n",
    "    #epsilon is added to log computations in order to avoid log(0) situations\n",
    "    epsilon = 1e-5 \n",
    "    return (-y*np.log(h+epsilon) - (1-y)*np.log(1-h+epsilon)).sum()"
   ]
  },
  {
   "cell_type": "code",
   "execution_count": 4,
   "metadata": {},
   "outputs": [],
   "source": [
    "def logistic_regression(y, tx, initial_w, max_iters, gamma, pandas=False):\n",
    "   \n",
    "    w = initial_w\n",
    "    h = 0\n",
    "    \n",
    "    for i in range(max_iters):\n",
    "    \n",
    "        #Compute x_t*w\n",
    "        z = np.dot(tx, w)\n",
    "        #Compute sigmoid of z\n",
    "        h = sigmoid(z)\n",
    "\n",
    "        #Compute gradient of loss function\n",
    "        gradient = np.dot(tx.T, h-y)\n",
    "        \n",
    "        #Update w according to gradient\n",
    "        w = w - gamma*gradient\n",
    "    \n",
    "    loss = loss_f_lr(h, y)\n",
    "    \n",
    "    return (w, loss)"
   ]
  },
  {
   "cell_type": "code",
   "execution_count": 5,
   "metadata": {},
   "outputs": [],
   "source": [
    "def reg_logistic_regression(y, tx, lambda_, initial_w, max_iters, gamma):\n",
    "    \n",
    "    w = initial_w\n",
    "    h = 0\n",
    "    \n",
    "    for i in range(max_iters):\n",
    "    \n",
    "        z = np.dot(tx, w)\n",
    "        h = sigmoid(z)\n",
    "\n",
    "        #The only difference with the previous function is the regularization constraint factored\n",
    "        #in the gradient computation\n",
    "        gradient = np.dot(tx.T, h-y) + lambda_*w\n",
    "        w = w - gamma*gradient\n",
    "    \n",
    "    loss = loss_f_lr(h, y) + (lambda_/2)*np.dot(w.T,w)\n",
    "    \n",
    "    return (w, loss)"
   ]
  },
  {
   "cell_type": "code",
   "execution_count": 6,
   "metadata": {},
   "outputs": [],
   "source": [
    "def proba(X, w):\n",
    "    return sigmoid(np.dot(X, w))\n",
    "\n",
    "def predict(X, w, threshold=0.5):\n",
    "    return proba(X, w) >= threshold"
   ]
  },
  {
   "cell_type": "code",
   "execution_count": 7,
   "metadata": {},
   "outputs": [],
   "source": [
    "#Load train data\n",
    "#y, tx, ids = load_csv_data('Data/train.csv', sub_sample=True)\n",
    "#intercept = np.ones((tx.shape[0], 1))\n",
    "#tx = np.concatenate((intercept, tx), axis=1)"
   ]
  },
  {
   "cell_type": "code",
   "execution_count": 8,
   "metadata": {},
   "outputs": [],
   "source": [
    "#Fit whole data\n",
    "#w1, loss1 = logistic_regression(y, tx, np.zeros(tx.shape[1]), 100000, 0.01)"
   ]
  },
  {
   "cell_type": "code",
   "execution_count": 9,
   "metadata": {},
   "outputs": [],
   "source": [
    "#Train validation\n",
    "#preds = predict(tx,w1)\n",
    "#(preds == y).mean()"
   ]
  },
  {
   "cell_type": "code",
   "execution_count": 10,
   "metadata": {},
   "outputs": [],
   "source": [
    "#Load sub sample of train data\n",
    "x = pd.read_csv('Data/train.csv')\n",
    "x['Intercept'] = 1\n",
    "x = x.iloc[::25, :]\n",
    "x[\"Prediction\"] = x[\"Prediction\"].apply(lambda p: 1 if p=='s' else 0)"
   ]
  },
  {
   "cell_type": "code",
   "execution_count": 11,
   "metadata": {},
   "outputs": [],
   "source": [
    "y_p = np.array(x[x[\"PRI_jet_num\"]==0].Prediction)\n",
    "y_p_1 = y_p[:3000]\n",
    "y_p_2 = y_p[3000:]"
   ]
  },
  {
   "cell_type": "code",
   "execution_count": 12,
   "metadata": {},
   "outputs": [],
   "source": [
    "#Data for first jet value\n",
    "df_jet1 = x[x[\"PRI_jet_num\"]==0].drop(columns=['Prediction','DER_deltaeta_jet_jet', \n",
    "                                               'DER_mass_jet_jet', 'DER_prodeta_jet_jet', \n",
    "                                               'DER_lep_eta_centrality', 'PRI_jet_leading_pt',\n",
    "                                               'PRI_jet_leading_eta', 'PRI_jet_leading_phi', \n",
    "                                               'PRI_jet_subleading_pt','PRI_jet_subleading_eta', \n",
    "                                               'PRI_jet_subleading_phi','PRI_jet_num','Id'])"
   ]
  },
  {
   "cell_type": "code",
   "execution_count": 13,
   "metadata": {},
   "outputs": [],
   "source": [
    "#Choosing the AIC wise best model for the first jet value\n",
    "df_jet1_aic = x[x[\"PRI_jet_num\"]==0].loc[:,['DER_mass_transverse_met_lep','PRI_tau_pt',\n",
    "                                       'DER_deltar_tau_lep','DER_mass_vis',\n",
    "                                       'DER_sum_pt','DER_pt_ratio_lep_tau',\n",
    "                                       'PRI_met_sumet','PRI_met','DER_mass_MMC',\n",
    "                                       'PRI_met_phi','PRI_lep_eta','Intercept']]\n",
    "\n",
    "x_jet1 = np.array(df_jet1_aic)"
   ]
  },
  {
   "cell_type": "code",
   "execution_count": 14,
   "metadata": {},
   "outputs": [],
   "source": [
    "x_jet1_1 = x_jet1[:3000]\n",
    "x_jet1_2 = x_jet1[3000:]"
   ]
  },
  {
   "cell_type": "code",
   "execution_count": 15,
   "metadata": {},
   "outputs": [],
   "source": [
    "w2, loss2 = logistic_regression(y_p_1, x_jet1_1, np.zeros(12), 100000, 0.01)"
   ]
  },
  {
   "cell_type": "code",
   "execution_count": 16,
   "metadata": {},
   "outputs": [
    {
     "data": {
      "text/plain": [
       "0.8189944134078212"
      ]
     },
     "execution_count": 16,
     "metadata": {},
     "output_type": "execute_result"
    }
   ],
   "source": [
    "#Cross validation\n",
    "preds = predict(x_jet1_2,w2)\n",
    "(preds == y_p_2).mean()"
   ]
  },
  {
   "cell_type": "code",
   "execution_count": 17,
   "metadata": {},
   "outputs": [],
   "source": [
    "def AIC_forward(y, x_pd):\n",
    "    \n",
    "    left = set(range(x_pd.shape[1]))\n",
    "    x = np.array(x_pd)\n",
    "    left.remove(x_pd.shape[1]-1)\n",
    "    picked = [x_pd.shape[1]-1]\n",
    "    current, new = 100000.0, 100000.0\n",
    "    \n",
    "    while left and current == new:\n",
    "        \n",
    "        aics_cov = []\n",
    "        \n",
    "        for covariate in left:\n",
    "            columns = picked + [covariate]\n",
    "            loss = logistic_regression(y, x[:,columns], np.zeros(len(columns)), 10000, 0.01)[1]\n",
    "            aic = loss\n",
    "            aics_cov.append((aic, covariate))\n",
    "        \n",
    "        aics_cov.sort()\n",
    "        new, best_cov = aics_cov[0]\n",
    "        \n",
    "        if current == new:\n",
    "            break\n",
    "        \n",
    "        if current > new:\n",
    "            left.remove(best_cov)\n",
    "            picked.append(best_cov)\n",
    "            current = new\n",
    "            \n",
    "    return np.array(x_pd.columns)[picked]"
   ]
  },
  {
   "cell_type": "code",
   "execution_count": 18,
   "metadata": {},
   "outputs": [],
   "source": [
    "#AIC_forward(y_p, df_jet4)"
   ]
  }
 ],
 "metadata": {
  "kernelspec": {
   "display_name": "Python 3",
   "language": "python",
   "name": "python3"
  },
  "language_info": {
   "codemirror_mode": {
    "name": "ipython",
    "version": 3
   },
   "file_extension": ".py",
   "mimetype": "text/x-python",
   "name": "python",
   "nbconvert_exporter": "python",
   "pygments_lexer": "ipython3",
   "version": "3.6.4"
  }
 },
 "nbformat": 4,
 "nbformat_minor": 2
}

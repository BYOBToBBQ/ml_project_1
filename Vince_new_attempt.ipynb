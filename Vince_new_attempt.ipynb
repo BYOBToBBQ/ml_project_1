{
 "cells": [
  {
   "cell_type": "code",
   "execution_count": 203,
   "metadata": {},
   "outputs": [],
   "source": [
    "#from implementations import *\n",
    "from project_helpers import *\n",
    "import csv\n",
    "import numpy as np\n",
    "import pandas as pd\n",
    "import math"
   ]
  },
  {
   "cell_type": "code",
   "execution_count": 204,
   "metadata": {},
   "outputs": [],
   "source": [
    "def AIC_forward(y, x):\n",
    "    \n",
    "    left = set(range(1, x.shape[1]))\n",
    "    picked = [0]\n",
    "    \n",
    "    current, new = 1000000.0, 1000000.0\n",
    "    \n",
    "    while left and current == new:\n",
    "        \n",
    "        aics_cov = []\n",
    "        \n",
    "        for covariate in left:\n",
    "            columns = picked + [covariate]\n",
    "            loss = least_squares(y, x[:,columns])[1]\n",
    "            aic = 2*loss*y.shape[0] + 2*len(columns)\n",
    "            aics_cov.append((aic, covariate))\n",
    "        \n",
    "        aics_cov.sort()\n",
    "        new, best_cov = aics_cov[0]\n",
    "        \n",
    "        if current > new:\n",
    "            left.remove(best_cov)\n",
    "            picked.append(best_cov)\n",
    "            current = new\n",
    "            \n",
    "    return picked"
   ]
  },
  {
   "cell_type": "code",
   "execution_count": 205,
   "metadata": {},
   "outputs": [],
   "source": [
    "def split_data(x, y, ratio=0.8, seed=1):\n",
    "    \"\"\"split the dataset based on the split ratio.\"\"\"\n",
    "    # set seed\n",
    "    np.random.seed(seed)\n",
    "    # generate random indices\n",
    "    num_row = len(y)\n",
    "    indices = np.random.permutation(num_row)\n",
    "    index_split = int(np.floor(ratio * num_row))\n",
    "    index_tr = indices[: index_split]\n",
    "    index_te = indices[index_split:]\n",
    "    # create split\n",
    "    x_tr = x[index_tr]\n",
    "    x_te = x[index_te]\n",
    "    y_tr = y[index_tr]\n",
    "    y_te = y[index_te]\n",
    "    return x_tr, x_te, y_tr, y_te"
   ]
  },
  {
   "cell_type": "code",
   "execution_count": 206,
   "metadata": {},
   "outputs": [],
   "source": [
    "def build_poly(x, degree):\n",
    "    \"\"\"polynomial basis functions for input data x, for j=0 up to j=degree.\"\"\"\n",
    "    poly = np.ones((len(x), 1))\n",
    "    for deg in range(1, degree+1):\n",
    "        poly = np.c_[poly, np.power(x, deg)]\n",
    "    return poly"
   ]
  },
  {
   "cell_type": "code",
   "execution_count": 207,
   "metadata": {},
   "outputs": [],
   "source": [
    "def compute_mse(y, tx, w):\n",
    "    \"\"\"compute the loss by mse.\"\"\"\n",
    "    e = y - tx.dot(w)\n",
    "    mse = e.dot(e) / (2 * len(e))\n",
    "    return mse"
   ]
  },
  {
   "cell_type": "code",
   "execution_count": 208,
   "metadata": {},
   "outputs": [],
   "source": [
    "def ridge_regression(y, tx, lambda_):\n",
    "    lambda_prime = (lambda_*2*y.shape[0]) * np.identity(tx.shape[1])\n",
    "    a = tx.T.dot(tx) + lambda_prime\n",
    "    b = tx.T.dot(y)\n",
    "    return np.linalg.solve(a, b)"
   ]
  },
  {
   "cell_type": "code",
   "execution_count": 209,
   "metadata": {},
   "outputs": [],
   "source": [
    "def sigmoid(z):\n",
    "    #return 1 / (1+np.exp(-z))\n",
    "    return .5 * (1 + np.tanh(.5 * z))\n",
    "\n",
    "def predict(w, tx, threshold=0.5):\n",
    "    probs = sigmoid(np.dot(tx, w))\n",
    "    probs[probs>=threshold] = 1\n",
    "    probs[probs<threshold] = 0\n",
    "    return probs\n",
    "\n",
    "def logistic_regression(y, tx, initial_w, max_iters, gamma):\n",
    "   \n",
    "    w = initial_w\n",
    "    h = 0\n",
    "    \n",
    "    for i in range(max_iters):\n",
    "    \n",
    "        #Compute x_t*w\n",
    "        z = np.dot(tx, w)\n",
    "        #Compute sigmoid of z\n",
    "        h = sigmoid(z)\n",
    "\n",
    "        #Compute gradient\n",
    "        gradient = tx.T.dot(h-y)\n",
    "        \n",
    "        #Update weight vector\n",
    "        update = gamma*gradient\n",
    "        w = w - update\n",
    "        \n",
    "    return w"
   ]
  },
  {
   "cell_type": "code",
   "execution_count": 210,
   "metadata": {},
   "outputs": [],
   "source": [
    "def model_pick_ridge(x, y, ratio=0.8, seed=1, degrees=range(1,2), lambdas=range(1)):\n",
    "    \"\"\"Pick best polynomial basis expansion and ridge regression lambda based on cross\n",
    "    validation mse scores\"\"\"\n",
    "\n",
    "    # split data\n",
    "    x_tr, x_te, y_tr, y_te = split_data(x, y, ratio, seed)\n",
    "\n",
    "    # ridge regression with different basis degrees and lambdas\n",
    "    rmse_tr = []\n",
    "    rmse_te = []\n",
    "    \n",
    "    for degree in degrees:\n",
    "        tx_tr = build_poly(x_tr, degree)\n",
    "        tx_te = build_poly(x_te, degree)\n",
    "        for lambda_ in lambdas:\n",
    "            weight = ridge_regression(y_tr, tx_tr, lambda_)\n",
    "            rmse_tr.append((np.sqrt(2 * compute_mse(y_tr, tx_tr, weight)), degree, lambda_))\n",
    "            rmse_te.append((np.sqrt(2 * compute_mse(y_te, tx_te, weight)), degree, lambda_))\n",
    "            \n",
    "    rmse_tr.sort()\n",
    "    rmse_te.sort()\n",
    "    return rmse_tr, rmse_te"
   ]
  },
  {
   "cell_type": "code",
   "execution_count": 211,
   "metadata": {},
   "outputs": [],
   "source": [
    "def model_pick_logistic(x, y, ratio=0.8, seed=1, degrees=range(1,2), lambdas=range(1)):\n",
    "    \"\"\"Pick best polynomial basis expansion and regularized logistic regression lambda \n",
    "    based on cross validation mse scores\"\"\"\n",
    "\n",
    "    # split data\n",
    "    x_tr, x_te, y_tr, y_te = split_data(x, y, ratio, seed)\n",
    "\n",
    "    # ridge regression with different basis degrees and lambdas\n",
    "    e_tr = []\n",
    "    e_te = []\n",
    "    \n",
    "    for degree in degrees:\n",
    "        tx_tr = build_poly(x_tr, degree)\n",
    "        tx_te = build_poly(x_te, degree)\n",
    "        for lambda_ in lambdas:\n",
    "            weight = logistic_regression(y_tr, tx_tr, np.zeros(tx_tr.shape[1]),1000,0.001)\n",
    "            pred_tr = predict(weight, tx_tr)\n",
    "            pred_te = predict(weight, tx_te)\n",
    "            score_tr = (pred_tr == y_tr).mean()\n",
    "            score_te = (pred_te == y_te).mean()\n",
    "            e_tr.append((score_tr, degree, lambda_))\n",
    "            e_te.append((score_te, degree, lambda_))\n",
    "            \n",
    "    e_tr.sort(reverse=True)\n",
    "    e_te.sort(reverse=True)\n",
    "    return e_tr, e_te"
   ]
  },
  {
   "cell_type": "markdown",
   "metadata": {},
   "source": [
    "Exploratory Data Analysis:"
   ]
  },
  {
   "cell_type": "code",
   "execution_count": 212,
   "metadata": {},
   "outputs": [
    {
     "data": {
      "text/html": [
       "<div>\n",
       "<style scoped>\n",
       "    .dataframe tbody tr th:only-of-type {\n",
       "        vertical-align: middle;\n",
       "    }\n",
       "\n",
       "    .dataframe tbody tr th {\n",
       "        vertical-align: top;\n",
       "    }\n",
       "\n",
       "    .dataframe thead th {\n",
       "        text-align: right;\n",
       "    }\n",
       "</style>\n",
       "<table border=\"1\" class=\"dataframe\">\n",
       "  <thead>\n",
       "    <tr style=\"text-align: right;\">\n",
       "      <th></th>\n",
       "      <th>Id</th>\n",
       "      <th>Prediction</th>\n",
       "      <th>DER_mass_MMC</th>\n",
       "      <th>DER_mass_transverse_met_lep</th>\n",
       "      <th>DER_mass_vis</th>\n",
       "      <th>DER_pt_h</th>\n",
       "      <th>DER_deltaeta_jet_jet</th>\n",
       "      <th>DER_mass_jet_jet</th>\n",
       "      <th>DER_prodeta_jet_jet</th>\n",
       "      <th>DER_deltar_tau_lep</th>\n",
       "      <th>...</th>\n",
       "      <th>PRI_met_phi</th>\n",
       "      <th>PRI_met_sumet</th>\n",
       "      <th>PRI_jet_num</th>\n",
       "      <th>PRI_jet_leading_pt</th>\n",
       "      <th>PRI_jet_leading_eta</th>\n",
       "      <th>PRI_jet_leading_phi</th>\n",
       "      <th>PRI_jet_subleading_pt</th>\n",
       "      <th>PRI_jet_subleading_eta</th>\n",
       "      <th>PRI_jet_subleading_phi</th>\n",
       "      <th>PRI_jet_all_pt</th>\n",
       "    </tr>\n",
       "  </thead>\n",
       "  <tbody>\n",
       "    <tr>\n",
       "      <th>0</th>\n",
       "      <td>100000</td>\n",
       "      <td>s</td>\n",
       "      <td>138.470</td>\n",
       "      <td>51.655</td>\n",
       "      <td>97.827</td>\n",
       "      <td>27.980</td>\n",
       "      <td>0.91</td>\n",
       "      <td>124.711</td>\n",
       "      <td>2.666</td>\n",
       "      <td>3.064</td>\n",
       "      <td>...</td>\n",
       "      <td>-0.277</td>\n",
       "      <td>258.733</td>\n",
       "      <td>2</td>\n",
       "      <td>67.435</td>\n",
       "      <td>2.150</td>\n",
       "      <td>0.444</td>\n",
       "      <td>46.062</td>\n",
       "      <td>1.24</td>\n",
       "      <td>-2.475</td>\n",
       "      <td>113.497</td>\n",
       "    </tr>\n",
       "    <tr>\n",
       "      <th>1</th>\n",
       "      <td>100001</td>\n",
       "      <td>b</td>\n",
       "      <td>160.937</td>\n",
       "      <td>68.768</td>\n",
       "      <td>103.235</td>\n",
       "      <td>48.146</td>\n",
       "      <td>-999.00</td>\n",
       "      <td>-999.000</td>\n",
       "      <td>-999.000</td>\n",
       "      <td>3.473</td>\n",
       "      <td>...</td>\n",
       "      <td>-1.916</td>\n",
       "      <td>164.546</td>\n",
       "      <td>1</td>\n",
       "      <td>46.226</td>\n",
       "      <td>0.725</td>\n",
       "      <td>1.158</td>\n",
       "      <td>-999.000</td>\n",
       "      <td>-999.00</td>\n",
       "      <td>-999.000</td>\n",
       "      <td>46.226</td>\n",
       "    </tr>\n",
       "    <tr>\n",
       "      <th>2</th>\n",
       "      <td>100002</td>\n",
       "      <td>b</td>\n",
       "      <td>-999.000</td>\n",
       "      <td>162.172</td>\n",
       "      <td>125.953</td>\n",
       "      <td>35.635</td>\n",
       "      <td>-999.00</td>\n",
       "      <td>-999.000</td>\n",
       "      <td>-999.000</td>\n",
       "      <td>3.148</td>\n",
       "      <td>...</td>\n",
       "      <td>-2.186</td>\n",
       "      <td>260.414</td>\n",
       "      <td>1</td>\n",
       "      <td>44.251</td>\n",
       "      <td>2.053</td>\n",
       "      <td>-2.028</td>\n",
       "      <td>-999.000</td>\n",
       "      <td>-999.00</td>\n",
       "      <td>-999.000</td>\n",
       "      <td>44.251</td>\n",
       "    </tr>\n",
       "    <tr>\n",
       "      <th>3</th>\n",
       "      <td>100003</td>\n",
       "      <td>b</td>\n",
       "      <td>143.905</td>\n",
       "      <td>81.417</td>\n",
       "      <td>80.943</td>\n",
       "      <td>0.414</td>\n",
       "      <td>-999.00</td>\n",
       "      <td>-999.000</td>\n",
       "      <td>-999.000</td>\n",
       "      <td>3.310</td>\n",
       "      <td>...</td>\n",
       "      <td>0.060</td>\n",
       "      <td>86.062</td>\n",
       "      <td>0</td>\n",
       "      <td>-999.000</td>\n",
       "      <td>-999.000</td>\n",
       "      <td>-999.000</td>\n",
       "      <td>-999.000</td>\n",
       "      <td>-999.00</td>\n",
       "      <td>-999.000</td>\n",
       "      <td>0.000</td>\n",
       "    </tr>\n",
       "    <tr>\n",
       "      <th>4</th>\n",
       "      <td>100004</td>\n",
       "      <td>b</td>\n",
       "      <td>175.864</td>\n",
       "      <td>16.915</td>\n",
       "      <td>134.805</td>\n",
       "      <td>16.405</td>\n",
       "      <td>-999.00</td>\n",
       "      <td>-999.000</td>\n",
       "      <td>-999.000</td>\n",
       "      <td>3.891</td>\n",
       "      <td>...</td>\n",
       "      <td>-0.871</td>\n",
       "      <td>53.131</td>\n",
       "      <td>0</td>\n",
       "      <td>-999.000</td>\n",
       "      <td>-999.000</td>\n",
       "      <td>-999.000</td>\n",
       "      <td>-999.000</td>\n",
       "      <td>-999.00</td>\n",
       "      <td>-999.000</td>\n",
       "      <td>0.000</td>\n",
       "    </tr>\n",
       "  </tbody>\n",
       "</table>\n",
       "<p>5 rows × 32 columns</p>\n",
       "</div>"
      ],
      "text/plain": [
       "       Id Prediction  DER_mass_MMC  DER_mass_transverse_met_lep  DER_mass_vis  \\\n",
       "0  100000          s       138.470                       51.655        97.827   \n",
       "1  100001          b       160.937                       68.768       103.235   \n",
       "2  100002          b      -999.000                      162.172       125.953   \n",
       "3  100003          b       143.905                       81.417        80.943   \n",
       "4  100004          b       175.864                       16.915       134.805   \n",
       "\n",
       "   DER_pt_h  DER_deltaeta_jet_jet  DER_mass_jet_jet  DER_prodeta_jet_jet  \\\n",
       "0    27.980                  0.91           124.711                2.666   \n",
       "1    48.146               -999.00          -999.000             -999.000   \n",
       "2    35.635               -999.00          -999.000             -999.000   \n",
       "3     0.414               -999.00          -999.000             -999.000   \n",
       "4    16.405               -999.00          -999.000             -999.000   \n",
       "\n",
       "   DER_deltar_tau_lep       ...        PRI_met_phi  PRI_met_sumet  \\\n",
       "0               3.064       ...             -0.277        258.733   \n",
       "1               3.473       ...             -1.916        164.546   \n",
       "2               3.148       ...             -2.186        260.414   \n",
       "3               3.310       ...              0.060         86.062   \n",
       "4               3.891       ...             -0.871         53.131   \n",
       "\n",
       "   PRI_jet_num  PRI_jet_leading_pt  PRI_jet_leading_eta  PRI_jet_leading_phi  \\\n",
       "0            2              67.435                2.150                0.444   \n",
       "1            1              46.226                0.725                1.158   \n",
       "2            1              44.251                2.053               -2.028   \n",
       "3            0            -999.000             -999.000             -999.000   \n",
       "4            0            -999.000             -999.000             -999.000   \n",
       "\n",
       "   PRI_jet_subleading_pt  PRI_jet_subleading_eta  PRI_jet_subleading_phi  \\\n",
       "0                 46.062                    1.24                  -2.475   \n",
       "1               -999.000                 -999.00                -999.000   \n",
       "2               -999.000                 -999.00                -999.000   \n",
       "3               -999.000                 -999.00                -999.000   \n",
       "4               -999.000                 -999.00                -999.000   \n",
       "\n",
       "   PRI_jet_all_pt  \n",
       "0         113.497  \n",
       "1          46.226  \n",
       "2          44.251  \n",
       "3           0.000  \n",
       "4           0.000  \n",
       "\n",
       "[5 rows x 32 columns]"
      ]
     },
     "execution_count": 212,
     "metadata": {},
     "output_type": "execute_result"
    }
   ],
   "source": [
    "#Load train data\n",
    "x_pd = pd.read_csv('Data/train.csv')\n",
    "x_pd.head()"
   ]
  },
  {
   "cell_type": "markdown",
   "metadata": {},
   "source": [
    "Many columns have missing values. It looks like that missingness depends on the value of PRI_jet_num.  \n",
    "  \n",
    "When jet_num=0:  \n",
    "DER_deltaeta_jet_jet, DER_mass_jet_jet, DER_prodeta_jet_jet, DER_lep_eta_centrality, PRI_jet_leading_pt, PRI_jet_leading_eta, PRI_jet_leading_phi, PRI_jet_subleading_pt, PRI_jet_subleading_eta, PRI_jet_subleading_phi and PRI_jet_all_pt do not contain any information \n",
    "  \n",
    "When jet_num=1:  \n",
    "DER_deltaeta_jet_jet, DER_mass_jet_jet, DER_prodeta_jet_jet, DER_lep_eta_centrality, PRI_jet_subleading_pt, PRI_jet_subleading_eta, PRI_jet_subleading_phi do not contain any information  \n",
    "  \n",
    "When jet_num=2,3 every column contains relevant information  \n",
    "  \n",
    "The column DER_mass_MMC has missing values for all jet_num values  \n",
    "  \n",
    "Missing values were arbitrarily set to -999. We will set them to 0. Therefore missing covariates won't affect linear combinations."
   ]
  },
  {
   "cell_type": "code",
   "execution_count": 229,
   "metadata": {},
   "outputs": [
    {
     "data": {
      "text/html": [
       "<div>\n",
       "<style scoped>\n",
       "    .dataframe tbody tr th:only-of-type {\n",
       "        vertical-align: middle;\n",
       "    }\n",
       "\n",
       "    .dataframe tbody tr th {\n",
       "        vertical-align: top;\n",
       "    }\n",
       "\n",
       "    .dataframe thead th {\n",
       "        text-align: right;\n",
       "    }\n",
       "</style>\n",
       "<table border=\"1\" class=\"dataframe\">\n",
       "  <thead>\n",
       "    <tr style=\"text-align: right;\">\n",
       "      <th></th>\n",
       "      <th>Id</th>\n",
       "      <th>DER_mass_MMC</th>\n",
       "      <th>DER_mass_transverse_met_lep</th>\n",
       "      <th>DER_mass_vis</th>\n",
       "      <th>DER_pt_h</th>\n",
       "      <th>DER_deltaeta_jet_jet</th>\n",
       "      <th>DER_mass_jet_jet</th>\n",
       "      <th>DER_prodeta_jet_jet</th>\n",
       "      <th>DER_deltar_tau_lep</th>\n",
       "      <th>DER_pt_tot</th>\n",
       "      <th>...</th>\n",
       "      <th>PRI_met_phi</th>\n",
       "      <th>PRI_met_sumet</th>\n",
       "      <th>PRI_jet_num</th>\n",
       "      <th>PRI_jet_leading_pt</th>\n",
       "      <th>PRI_jet_leading_eta</th>\n",
       "      <th>PRI_jet_leading_phi</th>\n",
       "      <th>PRI_jet_subleading_pt</th>\n",
       "      <th>PRI_jet_subleading_eta</th>\n",
       "      <th>PRI_jet_subleading_phi</th>\n",
       "      <th>PRI_jet_all_pt</th>\n",
       "    </tr>\n",
       "  </thead>\n",
       "  <tbody>\n",
       "    <tr>\n",
       "      <th>Id</th>\n",
       "      <td>1.000000</td>\n",
       "      <td>0.001917</td>\n",
       "      <td>-0.006059</td>\n",
       "      <td>-0.001851</td>\n",
       "      <td>0.002073</td>\n",
       "      <td>-0.000060</td>\n",
       "      <td>0.000353</td>\n",
       "      <td>-0.000075</td>\n",
       "      <td>-0.001349</td>\n",
       "      <td>-0.000581</td>\n",
       "      <td>...</td>\n",
       "      <td>-0.001141</td>\n",
       "      <td>0.002312</td>\n",
       "      <td>0.000175</td>\n",
       "      <td>0.001396</td>\n",
       "      <td>0.001216</td>\n",
       "      <td>0.001214</td>\n",
       "      <td>-0.000065</td>\n",
       "      <td>-0.000068</td>\n",
       "      <td>-0.000060</td>\n",
       "      <td>0.001024</td>\n",
       "    </tr>\n",
       "    <tr>\n",
       "      <th>DER_mass_MMC</th>\n",
       "      <td>0.001917</td>\n",
       "      <td>1.000000</td>\n",
       "      <td>-0.455755</td>\n",
       "      <td>0.168548</td>\n",
       "      <td>0.198765</td>\n",
       "      <td>0.162661</td>\n",
       "      <td>0.160524</td>\n",
       "      <td>0.162521</td>\n",
       "      <td>0.228105</td>\n",
       "      <td>0.045826</td>\n",
       "      <td>...</td>\n",
       "      <td>0.007411</td>\n",
       "      <td>0.221984</td>\n",
       "      <td>0.221078</td>\n",
       "      <td>0.250158</td>\n",
       "      <td>0.247083</td>\n",
       "      <td>0.247078</td>\n",
       "      <td>0.162836</td>\n",
       "      <td>0.162614</td>\n",
       "      <td>0.162609</td>\n",
       "      <td>0.185372</td>\n",
       "    </tr>\n",
       "    <tr>\n",
       "      <th>DER_mass_transverse_met_lep</th>\n",
       "      <td>-0.006059</td>\n",
       "      <td>-0.455755</td>\n",
       "      <td>1.000000</td>\n",
       "      <td>0.190109</td>\n",
       "      <td>-0.249116</td>\n",
       "      <td>-0.176386</td>\n",
       "      <td>-0.190392</td>\n",
       "      <td>-0.175942</td>\n",
       "      <td>0.043251</td>\n",
       "      <td>0.017758</td>\n",
       "      <td>...</td>\n",
       "      <td>-0.015925</td>\n",
       "      <td>-0.167811</td>\n",
       "      <td>-0.210537</td>\n",
       "      <td>-0.229674</td>\n",
       "      <td>-0.220370</td>\n",
       "      <td>-0.220355</td>\n",
       "      <td>-0.176837</td>\n",
       "      <td>-0.176231</td>\n",
       "      <td>-0.176225</td>\n",
       "      <td>-0.210009</td>\n",
       "    </tr>\n",
       "    <tr>\n",
       "      <th>DER_mass_vis</th>\n",
       "      <td>-0.001851</td>\n",
       "      <td>0.168548</td>\n",
       "      <td>0.190109</td>\n",
       "      <td>1.000000</td>\n",
       "      <td>-0.062562</td>\n",
       "      <td>-0.032251</td>\n",
       "      <td>-0.040620</td>\n",
       "      <td>-0.032126</td>\n",
       "      <td>0.579712</td>\n",
       "      <td>-0.000702</td>\n",
       "      <td>...</td>\n",
       "      <td>-0.001467</td>\n",
       "      <td>0.053300</td>\n",
       "      <td>-0.026860</td>\n",
       "      <td>-0.019151</td>\n",
       "      <td>-0.013749</td>\n",
       "      <td>-0.013742</td>\n",
       "      <td>-0.033188</td>\n",
       "      <td>-0.032202</td>\n",
       "      <td>-0.032206</td>\n",
       "      <td>-0.052902</td>\n",
       "    </tr>\n",
       "    <tr>\n",
       "      <th>DER_pt_h</th>\n",
       "      <td>0.002073</td>\n",
       "      <td>0.198765</td>\n",
       "      <td>-0.249116</td>\n",
       "      <td>-0.062562</td>\n",
       "      <td>1.000000</td>\n",
       "      <td>0.523664</td>\n",
       "      <td>0.534531</td>\n",
       "      <td>0.523639</td>\n",
       "      <td>-0.539379</td>\n",
       "      <td>0.310501</td>\n",
       "      <td>...</td>\n",
       "      <td>0.008585</td>\n",
       "      <td>0.782547</td>\n",
       "      <td>0.623401</td>\n",
       "      <td>0.621599</td>\n",
       "      <td>0.564898</td>\n",
       "      <td>0.564894</td>\n",
       "      <td>0.531647</td>\n",
       "      <td>0.523714</td>\n",
       "      <td>0.523703</td>\n",
       "      <td>0.808616</td>\n",
       "    </tr>\n",
       "  </tbody>\n",
       "</table>\n",
       "<p>5 rows × 31 columns</p>\n",
       "</div>"
      ],
      "text/plain": [
       "                                   Id  DER_mass_MMC  \\\n",
       "Id                           1.000000      0.001917   \n",
       "DER_mass_MMC                 0.001917      1.000000   \n",
       "DER_mass_transverse_met_lep -0.006059     -0.455755   \n",
       "DER_mass_vis                -0.001851      0.168548   \n",
       "DER_pt_h                     0.002073      0.198765   \n",
       "\n",
       "                             DER_mass_transverse_met_lep  DER_mass_vis  \\\n",
       "Id                                             -0.006059     -0.001851   \n",
       "DER_mass_MMC                                   -0.455755      0.168548   \n",
       "DER_mass_transverse_met_lep                     1.000000      0.190109   \n",
       "DER_mass_vis                                    0.190109      1.000000   \n",
       "DER_pt_h                                       -0.249116     -0.062562   \n",
       "\n",
       "                             DER_pt_h  DER_deltaeta_jet_jet  DER_mass_jet_jet  \\\n",
       "Id                           0.002073             -0.000060          0.000353   \n",
       "DER_mass_MMC                 0.198765              0.162661          0.160524   \n",
       "DER_mass_transverse_met_lep -0.249116             -0.176386         -0.190392   \n",
       "DER_mass_vis                -0.062562             -0.032251         -0.040620   \n",
       "DER_pt_h                     1.000000              0.523664          0.534531   \n",
       "\n",
       "                             DER_prodeta_jet_jet  DER_deltar_tau_lep  \\\n",
       "Id                                     -0.000075           -0.001349   \n",
       "DER_mass_MMC                            0.162521            0.228105   \n",
       "DER_mass_transverse_met_lep            -0.175942            0.043251   \n",
       "DER_mass_vis                           -0.032126            0.579712   \n",
       "DER_pt_h                                0.523639           -0.539379   \n",
       "\n",
       "                             DER_pt_tot       ...        PRI_met_phi  \\\n",
       "Id                            -0.000581       ...          -0.001141   \n",
       "DER_mass_MMC                   0.045826       ...           0.007411   \n",
       "DER_mass_transverse_met_lep    0.017758       ...          -0.015925   \n",
       "DER_mass_vis                  -0.000702       ...          -0.001467   \n",
       "DER_pt_h                       0.310501       ...           0.008585   \n",
       "\n",
       "                             PRI_met_sumet  PRI_jet_num  PRI_jet_leading_pt  \\\n",
       "Id                                0.002312     0.000175            0.001396   \n",
       "DER_mass_MMC                      0.221984     0.221078            0.250158   \n",
       "DER_mass_transverse_met_lep      -0.167811    -0.210537           -0.229674   \n",
       "DER_mass_vis                      0.053300    -0.026860           -0.019151   \n",
       "DER_pt_h                          0.782547     0.623401            0.621599   \n",
       "\n",
       "                             PRI_jet_leading_eta  PRI_jet_leading_phi  \\\n",
       "Id                                      0.001216             0.001214   \n",
       "DER_mass_MMC                            0.247083             0.247078   \n",
       "DER_mass_transverse_met_lep            -0.220370            -0.220355   \n",
       "DER_mass_vis                           -0.013749            -0.013742   \n",
       "DER_pt_h                                0.564898             0.564894   \n",
       "\n",
       "                             PRI_jet_subleading_pt  PRI_jet_subleading_eta  \\\n",
       "Id                                       -0.000065               -0.000068   \n",
       "DER_mass_MMC                              0.162836                0.162614   \n",
       "DER_mass_transverse_met_lep              -0.176837               -0.176231   \n",
       "DER_mass_vis                             -0.033188               -0.032202   \n",
       "DER_pt_h                                  0.531647                0.523714   \n",
       "\n",
       "                             PRI_jet_subleading_phi  PRI_jet_all_pt  \n",
       "Id                                        -0.000060        0.001024  \n",
       "DER_mass_MMC                               0.162609        0.185372  \n",
       "DER_mass_transverse_met_lep               -0.176225       -0.210009  \n",
       "DER_mass_vis                              -0.032206       -0.052902  \n",
       "DER_pt_h                                   0.523703        0.808616  \n",
       "\n",
       "[5 rows x 31 columns]"
      ]
     },
     "execution_count": 229,
     "metadata": {},
     "output_type": "execute_result"
    }
   ],
   "source": [
    "x_pd.corr().head()"
   ]
  },
  {
   "cell_type": "markdown",
   "metadata": {},
   "source": [
    "We observe that many columns are correlated. This may result in an ill-conditioned design matrix when computing inverses."
   ]
  },
  {
   "cell_type": "markdown",
   "metadata": {},
   "source": [
    "**Model Building:**  \n",
    "  \n",
    "With each approach we will resort to regression, regularization and 80/20 cross validation."
   ]
  },
  {
   "cell_type": "code",
   "execution_count": 214,
   "metadata": {},
   "outputs": [],
   "source": [
    "#Load train data\n",
    "y, tx, ids = load_csv_data('Data/train.csv', sub_sample=False)"
   ]
  },
  {
   "cell_type": "code",
   "execution_count": 215,
   "metadata": {},
   "outputs": [],
   "source": [
    "tx[tx == -999] = 0"
   ]
  },
  {
   "cell_type": "code",
   "execution_count": 216,
   "metadata": {},
   "outputs": [],
   "source": [
    "#Define parameters\n",
    "degrees = range(1,10)\n",
    "lambdas = [10**-x for x in range(1,14)]"
   ]
  },
  {
   "cell_type": "markdown",
   "metadata": {},
   "source": [
    "**Approach 1: Ridge regression**  "
   ]
  },
  {
   "cell_type": "markdown",
   "metadata": {},
   "source": [
    "Building a model:"
   ]
  },
  {
   "cell_type": "code",
   "execution_count": 217,
   "metadata": {},
   "outputs": [
    {
     "name": "stdout",
     "output_type": "stream",
     "text": [
      "mse:  0.825104421874223 deg:  1 lambda:  0\n"
     ]
    }
   ],
   "source": [
    "#Basic linear regression\n",
    "tr,te = model_pick_ridge(tx, y)\n",
    "mse,deg,lamb = te[0]\n",
    "print('mse: ',mse,'deg: ',deg,'lambda: ',lamb)"
   ]
  },
  {
   "cell_type": "code",
   "execution_count": 218,
   "metadata": {},
   "outputs": [
    {
     "name": "stdout",
     "output_type": "stream",
     "text": [
      "mse:  0.7679063549399294 deg:  6 lambda:  0\n"
     ]
    }
   ],
   "source": [
    "#Linear regression with polynomial basis expansion\n",
    "tr,te = model_pick_ridge(tx, y, degrees=degrees)\n",
    "mse,deg,lamb = te[0]\n",
    "print('mse: ',mse,'deg: ',deg,'lambda: ',lamb)"
   ]
  },
  {
   "cell_type": "code",
   "execution_count": 219,
   "metadata": {},
   "outputs": [
    {
     "name": "stdout",
     "output_type": "stream",
     "text": [
      "mse:  0.7678923926447192 deg:  6 lambda:  1e-06\n"
     ]
    }
   ],
   "source": [
    "#Ridge regression with polynomial basis expansion\n",
    "tr,te = model_pick_ridge(tx, y, degrees=degrees, lambdas=lambdas)\n",
    "mse,deg,lamb = te[0]\n",
    "print('mse: ',mse,'deg: ',deg,'lambda: ',lamb)"
   ]
  },
  {
   "cell_type": "code",
   "execution_count": 220,
   "metadata": {},
   "outputs": [],
   "source": [
    "tx_deg = build_poly(tx, deg)"
   ]
  },
  {
   "cell_type": "code",
   "execution_count": 221,
   "metadata": {},
   "outputs": [],
   "source": [
    "w = ridge_regression(y, tx_deg, lamb)"
   ]
  },
  {
   "cell_type": "markdown",
   "metadata": {},
   "source": [
    "Predicting test data:"
   ]
  },
  {
   "cell_type": "code",
   "execution_count": 222,
   "metadata": {},
   "outputs": [],
   "source": [
    "y_t, tx_t, ids_t = load_csv_data('Data/test.csv', sub_sample=False)"
   ]
  },
  {
   "cell_type": "code",
   "execution_count": 223,
   "metadata": {},
   "outputs": [],
   "source": [
    "tx_t[tx_t == -999] = 0"
   ]
  },
  {
   "cell_type": "code",
   "execution_count": 224,
   "metadata": {},
   "outputs": [],
   "source": [
    "tx_t = build_poly(tx_t, deg)\n",
    "pred = predict_labels(w, tx_t)"
   ]
  },
  {
   "cell_type": "markdown",
   "metadata": {},
   "source": [
    "**Approach 2: Logistic regression**"
   ]
  },
  {
   "cell_type": "markdown",
   "metadata": {},
   "source": [
    "Building a model:"
   ]
  },
  {
   "cell_type": "code",
   "execution_count": 225,
   "metadata": {},
   "outputs": [],
   "source": [
    "#y[y == -1] = 0"
   ]
  },
  {
   "cell_type": "code",
   "execution_count": 226,
   "metadata": {},
   "outputs": [],
   "source": [
    "#tr,te = model_pick_logistic(tx, y, degrees=degrees)\n",
    "#score,deg,lamb = te[0]\n",
    "#print('score: ',score,'deg: ',deg,'lambda: ',lamb)"
   ]
  },
  {
   "cell_type": "markdown",
   "metadata": {},
   "source": [
    "Predicting test data:"
   ]
  },
  {
   "cell_type": "markdown",
   "metadata": {},
   "source": [
    "Create Submissions"
   ]
  },
  {
   "cell_type": "code",
   "execution_count": 227,
   "metadata": {},
   "outputs": [],
   "source": [
    "#create_csv_submission(ids_t, pred, 'pred full model poly expansion ridge reg')"
   ]
  }
 ],
 "metadata": {
  "kernelspec": {
   "display_name": "Python 3",
   "language": "python",
   "name": "python3"
  },
  "language_info": {
   "codemirror_mode": {
    "name": "ipython",
    "version": 3
   },
   "file_extension": ".py",
   "mimetype": "text/x-python",
   "name": "python",
   "nbconvert_exporter": "python",
   "pygments_lexer": "ipython3",
   "version": "3.6.4"
  }
 },
 "nbformat": 4,
 "nbformat_minor": 2
}

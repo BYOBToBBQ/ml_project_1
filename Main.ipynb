{
 "cells": [
  {
   "cell_type": "code",
   "execution_count": 1,
   "metadata": {},
   "outputs": [],
   "source": [
    "#main notebook\n",
    "import numpy as np\n",
    "from numpy.linalg import inv\n",
    "from numpy import linalg as la\n",
    "from implementations import *\n"
   ]
  },
  {
   "cell_type": "code",
   "execution_count": 26,
   "metadata": {},
   "outputs": [],
   "source": [
    "#load data\n",
    "import datetime\n",
    "from helpers import *\n",
    "import csv\n",
    "\n",
    "\n"
   ]
  },
  {
   "cell_type": "code",
   "execution_count": 12,
   "metadata": {},
   "outputs": [],
   "source": [
    "def load_csv_data(data_path, sub_sample=False, set_outliers_zero=False, skip_n_header=1, skip_n_footer=0):\n",
    "    \"\"\"Loads data and returns y (class labels), tX (features) and ids (event ids)\"\"\"\n",
    "    y = np.genfromtxt(data_path, delimiter=\",\", skip_header=skip_n_header, skip_footer=skip_n_footer, dtype=str, usecols=1)\n",
    "    x = np.genfromtxt(data_path, delimiter=\",\", skip_header=skip_n_header, skip_footer=skip_n_footer)\n",
    "    ids = x[:, 0].astype(np.int)\n",
    "    input_data = x[:, 2:]\n",
    "\n",
    "    # convert class labels from strings to binary (-1,1)\n",
    "    yb = np.ones(len(y))\n",
    "    yb[np.where(y=='b')] = -1\n",
    "    \n",
    "    #remove outliers by setting the values to 0\n",
    "    if set_outliers_zero:\n",
    "        for (x,y), data in np.ndenumerate(input_data):\n",
    "            if data == -999. :\n",
    "                input_data[x,y] = 0.\n",
    "               \n",
    "    # sub-sample\n",
    "    if sub_sample:\n",
    "        yb = yb[::50]\n",
    "        input_data = input_data[::50]\n",
    "        ids = ids[::50]\n",
    "\n",
    "    return yb, input_data, ids\n"
   ]
  },
  {
   "cell_type": "code",
   "execution_count": 13,
   "metadata": {
    "scrolled": false
   },
   "outputs": [
    {
     "data": {
      "text/plain": [
       "(array([ 1., -1., -1., ...,  1., -1., -1.]),\n",
       " array([[138.47 ,  51.655,  97.827, ...,   1.24 ,  -2.475, 113.497],\n",
       "        [160.937,  68.768, 103.235, ...,   0.   ,   0.   ,  46.226],\n",
       "        [  0.   , 162.172, 125.953, ...,   0.   ,   0.   ,  44.251],\n",
       "        ...,\n",
       "        [105.457,  60.526,  75.839, ...,   0.   ,   0.   ,  41.992],\n",
       "        [ 94.951,  19.362,  68.812, ...,   0.   ,   0.   ,   0.   ],\n",
       "        [  0.   ,  72.756,  70.831, ...,   0.   ,   0.   ,   0.   ]]),\n",
       " array([100000, 100001, 100002, ..., 349997, 349998, 349999]),\n",
       " array([ 90.801,  27.787,  65.373,  55.978,   0.   ,   0.   ,   0.   ,\n",
       "          2.457,  20.608, 138.624,   2.452,   1.405,   0.   ,  21.977,\n",
       "          1.603,  -0.643,  53.881,   1.873,   1.799,  18.209,   0.88 ,\n",
       "        219.339,   1.   ,  62.766,   0.778,  -2.209,   0.   ,   0.   ,\n",
       "          0.   ,  62.766]),\n",
       " array([ 1.155280e+02,  3.093800e+01,  7.087600e+01,  3.506800e+02,\n",
       "         3.367000e+00,  1.020836e+03, -2.803000e+00,  7.440000e-01,\n",
       "         1.767000e+01,  6.600890e+02,  1.866000e+00,  6.110000e-01,\n",
       "         3.300000e-01,  6.916900e+01, -9.920000e-01,  1.590000e-01,\n",
       "         1.290730e+02, -1.596000e+00, -2.740000e-01,  1.625080e+02,\n",
       "        -4.880000e-01,  7.603270e+02,  2.000000e+00,  3.660890e+02,\n",
       "         1.859000e+00, -3.117000e+00,  9.575700e+01, -1.508000e+00,\n",
       "         1.276000e+00,  4.618470e+02]))"
      ]
     },
     "execution_count": 13,
     "metadata": {},
     "output_type": "execute_result"
    }
   ],
   "source": [
    "y, datas, ids = load_csv_data(\"train.csv\",set_outliers_zero=True)\n",
    "\n",
    "y, datas, ids, datas[100], datas [10000]"
   ]
  },
  {
   "cell_type": "code",
   "execution_count": 14,
   "metadata": {},
   "outputs": [],
   "source": [
    "def standardize(x):\n",
    "    \"\"\"Standardize the original data set.\"\"\"\n",
    "    mean_x = np.mean(x)\n",
    "    x = x - mean_x\n",
    "    std_x = np.std(x)\n",
    "    x = x / std_x\n",
    "    return x \n",
    "\n",
    "def create_tx(datas):\n",
    "    for i in range(np.shape(datas)[1]) :\n",
    "        datas[:,i] = standardize(datas[:,i])\n",
    "    tx = np.c_[np.ones(np.shape(datas)[0]), datas]\n",
    "    return tx"
   ]
  },
  {
   "cell_type": "code",
   "execution_count": 18,
   "metadata": {},
   "outputs": [],
   "source": [
    "tx = create_tx(datas)"
   ]
  },
  {
   "cell_type": "code",
   "execution_count": 15,
   "metadata": {},
   "outputs": [],
   "source": [
    "tx = datas"
   ]
  },
  {
   "cell_type": "code",
   "execution_count": 19,
   "metadata": {},
   "outputs": [
    {
     "data": {
      "text/plain": [
       "array([[ 1.00000000e+00,  5.13221613e-01,  6.83319669e-02, ...,\n",
       "         1.13612250e+00, -2.52828975e+00,  4.12510497e-01],\n",
       "       [ 1.00000000e+00,  8.40891468e-01,  5.52504823e-01, ...,\n",
       "         3.14052005e-03,  4.69108779e-04, -2.73819964e-01],\n",
       "       [ 1.00000000e+00, -1.50629345e+00,  3.19515553e+00, ...,\n",
       "         3.14052005e-03,  4.69108779e-04, -2.93969845e-01],\n",
       "       ...,\n",
       "       [ 1.00000000e+00,  3.17436708e-02,  3.19316447e-01, ...,\n",
       "         3.14052005e-03,  4.69108779e-04, -3.17017229e-01],\n",
       "       [ 1.00000000e+00, -1.21481036e-01, -8.45323970e-01, ...,\n",
       "         3.14052005e-03,  4.69108779e-04, -7.45439413e-01],\n",
       "       [ 1.00000000e+00, -1.50629345e+00,  6.65336083e-01, ...,\n",
       "         3.14052005e-03,  4.69108779e-04, -7.45439413e-01]])"
      ]
     },
     "execution_count": 19,
     "metadata": {},
     "output_type": "execute_result"
    }
   ],
   "source": [
    "tx"
   ]
  },
  {
   "cell_type": "code",
   "execution_count": 20,
   "metadata": {},
   "outputs": [
    {
     "data": {
      "text/plain": [
       "(0.33965372761996415,\n",
       " array([-3.14664000e-01,  3.04730330e-02, -2.40589942e-01, -2.38874721e-01,\n",
       "         7.65127856e-03,  2.12511380e-02,  1.02770046e-01, -7.53837262e-03,\n",
       "         2.50789665e-01, -1.56341881e-02,  1.58862037e-03, -1.57520077e-01,\n",
       "         1.24653590e-01,  9.92855342e-02,  1.85282737e-01, -1.09569779e-03,\n",
       "        -1.06529792e-03,  2.40162840e-01, -1.33635124e-04,  2.52512817e-03,\n",
       "         8.54607090e-02,  9.75902738e-04, -6.13087547e-02, -2.05550286e-02,\n",
       "         3.38701497e-02,  4.03465214e-04,  1.19176662e-04, -3.26333190e-02,\n",
       "         1.43440726e-03, -1.74599179e-03, -9.45554621e-02]))"
      ]
     },
     "execution_count": 20,
     "metadata": {},
     "output_type": "execute_result"
    }
   ],
   "source": [
    "#finds the w via gradient descent\n",
    "L,w =least_squares_GD(y,tx, np.zeros(np.shape(tx)[1]),200,0.1)\n",
    "L,w"
   ]
  },
  {
   "cell_type": "code",
   "execution_count": 21,
   "metadata": {},
   "outputs": [],
   "source": [
    "y_real, data_test, id_test = load_csv_data(\"test.csv\")\n",
    "tx_test = create_tx(data_test)"
   ]
  },
  {
   "cell_type": "code",
   "execution_count": 22,
   "metadata": {},
   "outputs": [],
   "source": [
    "y_evaluated = tx_test @ w"
   ]
  },
  {
   "cell_type": "code",
   "execution_count": 30,
   "metadata": {},
   "outputs": [
    {
     "data": {
      "text/plain": [
       "array([-1., -1., -1., ...,  1.,  1., -1.])"
      ]
     },
     "execution_count": 30,
     "metadata": {},
     "output_type": "execute_result"
    }
   ],
   "source": [
    "y_predicted = np.array([])\n",
    "sorted_y = np.sort(y_evaluated)\n",
    "special_mean = sorted_y[int(len(sorted_y)/2 - np.sum(y_evaluated)/2)]\n",
    "for y in np.nditer(y_evaluated) :\n",
    "    y_predicted = np.append(y_predicted, -1 if y < special_mean else 1)\n",
    "y_predicted"
   ]
  },
  {
   "cell_type": "code",
   "execution_count": 29,
   "metadata": {},
   "outputs": [],
   "source": [
    "def create_csv_submission(ids, y_pred, name):\n",
    "    \"\"\"\n",
    "    Creates an output file in csv format for submission to kaggle\n",
    "    Arguments: ids (event ids associated with each prediction)\n",
    "               y_pred (predicted class labels)\n",
    "               name (string name of .csv output file to be created)\n",
    "    \"\"\"\n",
    "    with open(name, 'w') as csvfile:\n",
    "        fieldnames = ['Id', 'Prediction']\n",
    "        writer = csv.DictWriter(csvfile, delimiter=\",\", fieldnames=fieldnames)\n",
    "        writer.writeheader()\n",
    "        for r1, r2 in zip(ids, y_pred):\n",
    "            r2 = '-1'if r2==-1 else '1'\n",
    "            writer.writerow({'Id':int(r1),'Prediction':r2})"
   ]
  },
  {
   "cell_type": "code",
   "execution_count": 31,
   "metadata": {},
   "outputs": [],
   "source": [
    "create_csv_submission(id_test, y_predicted, \"sample_submission_2.csv\")"
   ]
  },
  {
   "cell_type": "code",
   "execution_count": 181,
   "metadata": {},
   "outputs": [
    {
     "data": {
      "text/plain": [
       "array([-3.61096876, -3.00082722, -2.93134027, ...,  2.9798361 ,\n",
       "        3.08742585,  4.78075635])"
      ]
     },
     "execution_count": 181,
     "metadata": {},
     "output_type": "execute_result"
    }
   ],
   "source": [
    "sorted_y"
   ]
  },
  {
   "cell_type": "code",
   "execution_count": 182,
   "metadata": {},
   "outputs": [
    {
     "data": {
      "text/plain": [
       "(-15785.649028863096, -15785.0, -15675.0, 9215.0)"
      ]
     },
     "execution_count": 182,
     "metadata": {},
     "output_type": "execute_result"
    }
   ],
   "source": [
    "np.sum(y_evaluated), np.sum(y_predicted), np.sum(y_real), np.rint(len(sorted_y)/2 + np.sum(y_evaluated))"
   ]
  },
  {
   "cell_type": "code",
   "execution_count": 186,
   "metadata": {},
   "outputs": [
    {
     "data": {
      "text/plain": [
       "0.253694926101478"
      ]
     },
     "execution_count": 186,
     "metadata": {},
     "output_type": "execute_result"
    }
   ],
   "source": [
    "np.sum(((y_predicted-y_real)/2)**2)/len(y_real)"
   ]
  },
  {
   "cell_type": "code",
   "execution_count": null,
   "metadata": {},
   "outputs": [],
   "source": []
  },
  {
   "cell_type": "code",
   "execution_count": null,
   "metadata": {},
   "outputs": [],
   "source": []
  },
  {
   "cell_type": "code",
   "execution_count": null,
   "metadata": {},
   "outputs": [],
   "source": []
  },
  {
   "cell_type": "code",
   "execution_count": 90,
   "metadata": {},
   "outputs": [],
   "source": [
    "#import the datas for creating the model\n",
    "path_dataset = \"train.csv\"\n",
    "data = np.genfromtxt(path_dataset, delimiter=\",\", skip_header=1,usecols= [3,4,5] )"
   ]
  },
  {
   "cell_type": "code",
   "execution_count": 98,
   "metadata": {},
   "outputs": [
    {
     "name": "stdout",
     "output_type": "stream",
     "text": [
      "[[ 51.655  97.827  27.98 ]\n",
      " [ 68.768 103.235  48.146]\n",
      " [162.172 125.953  35.635]\n",
      " ...\n",
      " [ 60.526  75.839  39.757]\n",
      " [ 19.362  68.812  13.504]\n",
      " [ 72.756  70.831   7.479]]\n"
     ]
    },
    {
     "data": {
      "text/plain": [
       "array([ 68.768, 103.235,  48.146])"
      ]
     },
     "execution_count": 98,
     "metadata": {},
     "output_type": "execute_result"
    }
   ],
   "source": [
    "\n",
    "np.shape(data)\n",
    "print(data)\n",
    "np.delete(data,(1),axis=0)\n",
    "data[1]"
   ]
  },
  {
   "cell_type": "code",
   "execution_count": 31,
   "metadata": {},
   "outputs": [],
   "source": [
    "sb = np.genfromtxt(\"train.csv\", dtype = str, delimiter=\",\", skip_header=1, skip_footer=50000, usecols=1)\n",
    "SB = np.array([])\n",
    "for i in sb: \n",
    "    SB = np.append(SB,0 if i == 's' else 1)"
   ]
  },
  {
   "cell_type": "code",
   "execution_count": null,
   "metadata": {},
   "outputs": [],
   "source": []
  },
  {
   "cell_type": "code",
   "execution_count": 45,
   "metadata": {},
   "outputs": [
    {
     "data": {
      "text/plain": [
       "array([[ 1.        , -0.22239874,  0.70041702, -0.69557866],\n",
       "       [ 1.        ,  0.1196299 ,  0.80850391, -0.2925313 ],\n",
       "       [ 1.        ,  1.98644709,  1.26255676, -0.54258215],\n",
       "       ...,\n",
       "       [ 1.        , -0.01749734,  0.02125644,  0.03350815],\n",
       "       [ 1.        ,  0.37365806, -0.15408495, -1.2491442 ],\n",
       "       [ 1.        ,  0.13797749,  0.73781173, -0.67425308]])"
      ]
     },
     "execution_count": 45,
     "metadata": {},
     "output_type": "execute_result"
    }
   ],
   "source": [
    "num_samples = len(SB)\n",
    "tx = np.c_[np.ones(num_samples), data]\n",
    "tx"
   ]
  },
  {
   "cell_type": "code",
   "execution_count": 60,
   "metadata": {},
   "outputs": [],
   "source": [
    "L,w =least_squares_GD(standardize(SB)[0],tx, [0,0,0,0],200,0.1)"
   ]
  },
  {
   "cell_type": "code",
   "execution_count": 61,
   "metadata": {},
   "outputs": [
    {
     "data": {
      "text/plain": [
       "(0.43093491086929886,\n",
       " array([ 0.14320443,  0.47081878, -0.06982675, -0.08973428]))"
      ]
     },
     "execution_count": 61,
     "metadata": {},
     "output_type": "execute_result"
    }
   ],
   "source": [
    "L,w\n"
   ]
  },
  {
   "cell_type": "code",
   "execution_count": 48,
   "metadata": {},
   "outputs": [
    {
     "data": {
      "text/plain": [
       "(50000, 3)"
      ]
     },
     "execution_count": 48,
     "metadata": {},
     "output_type": "execute_result"
    }
   ],
   "source": [
    "data_test = np.genfromtxt(\"train.csv\", delimiter=\",\", skip_header=200001, usecols= [3,4,5] )\n",
    "data_test, mean_x, std_x = standardize(data_test)\n",
    "np.shape(data_test)"
   ]
  },
  {
   "cell_type": "code",
   "execution_count": 40,
   "metadata": {},
   "outputs": [],
   "source": [
    "sb_test = np.genfromtxt(\"train.csv\", dtype = str, delimiter=\",\", skip_header=200001, usecols=1)\n",
    "SB_test = np.array([])\n",
    "for i in sb_test: \n",
    "    SB_test = np.append(SB_test,0 if i == 's' else 1)\n"
   ]
  },
  {
   "cell_type": "code",
   "execution_count": 49,
   "metadata": {},
   "outputs": [
    {
     "data": {
      "text/plain": [
       "array([[ 1.        ,  0.74100665,  0.44790861, -0.6610894 ],\n",
       "       [ 1.        , -0.77799727, -0.32603467, -0.22190143],\n",
       "       [ 1.        ,  0.05888105,  0.41926549, -0.46988904],\n",
       "       ...,\n",
       "       [ 1.        , -0.04405456,  0.26159855, -0.45861143],\n",
       "       [ 1.        , -0.86570312,  0.12133704, -0.98263096],\n",
       "       [ 1.        ,  0.20006073,  0.16163703, -1.10289217]])"
      ]
     },
     "execution_count": 49,
     "metadata": {},
     "output_type": "execute_result"
    }
   ],
   "source": [
    "num_samples = len(SB_test)\n",
    "tx_test = np.c_[np.ones(num_samples), data_test]\n",
    "tx_test"
   ]
  },
  {
   "cell_type": "code",
   "execution_count": 63,
   "metadata": {},
   "outputs": [],
   "source": [
    "Y_test = tx_test @ w"
   ]
  },
  {
   "cell_type": "code",
   "execution_count": 68,
   "metadata": {},
   "outputs": [],
   "source": [
    "res = np.array([])\n",
    "mean = standardize(SB)[1]\n",
    "for y in Y_test :\n",
    "    res = np.append(res, 0 if y < mean else 1)"
   ]
  },
  {
   "cell_type": "code",
   "execution_count": 69,
   "metadata": {},
   "outputs": [
    {
     "data": {
      "text/plain": [
       "(array([ 0.52013066, -0.18041319,  0.18381595,  0.22603976,  0.3817129 ,\n",
       "        -0.30583385,  0.06966408,  0.46115635,  0.15767803, -0.48368688,\n",
       "        -0.15350885,  0.25030378,  0.13419517,  0.3884125 , -0.39979502,\n",
       "        -0.00933673,  0.53627554,  0.21850201,  0.10662062, -0.38788442]),\n",
       " array([0., 0., 0., 0., 0., 0., 0., 0., 0., 0., 0., 0., 0., 0., 0., 0., 0.,\n",
       "        0., 0., 0.]))"
      ]
     },
     "execution_count": 69,
     "metadata": {},
     "output_type": "execute_result"
    }
   ],
   "source": [
    "Y_test[0:20], res[0:20]"
   ]
  },
  {
   "cell_type": "code",
   "execution_count": 70,
   "metadata": {},
   "outputs": [
    {
     "data": {
      "text/plain": [
       "0.642"
      ]
     },
     "execution_count": 70,
     "metadata": {},
     "output_type": "execute_result"
    }
   ],
   "source": [
    "np.sum( (res- SB_test)**2) / len(SB_test)"
   ]
  },
  {
   "cell_type": "code",
   "execution_count": null,
   "metadata": {},
   "outputs": [],
   "source": []
  }
 ],
 "metadata": {
  "kernelspec": {
   "display_name": "Python 3",
   "language": "python",
   "name": "python3"
  },
  "language_info": {
   "codemirror_mode": {
    "name": "ipython",
    "version": 3
   },
   "file_extension": ".py",
   "mimetype": "text/x-python",
   "name": "python",
   "nbconvert_exporter": "python",
   "pygments_lexer": "ipython3",
   "version": "3.6.5"
  }
 },
 "nbformat": 4,
 "nbformat_minor": 2
}

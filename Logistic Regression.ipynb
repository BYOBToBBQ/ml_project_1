{
 "cells": [
  {
   "cell_type": "code",
   "execution_count": 179,
   "metadata": {},
   "outputs": [],
   "source": [
    "#from project_helpers import load_csv_data, predict_labels\n",
    "import csv\n",
    "import numpy as np\n",
    "from sklearn import datasets"
   ]
  },
  {
   "cell_type": "code",
   "execution_count": 180,
   "metadata": {},
   "outputs": [],
   "source": [
    "def load_csv_data(data_path, sub_sample=False):\n",
    "    \"\"\"Loads data and returns y (class labels), tX (features) and ids (event ids)\"\"\"\n",
    "    y = np.genfromtxt(data_path, delimiter=\",\", skip_header=1, dtype=str, usecols=1)\n",
    "    x = np.genfromtxt(data_path, delimiter=\",\", skip_header=1)\n",
    "    ids = x[:, 0].astype(np.int)\n",
    "    input_data = x[:, 2:]\n",
    "\n",
    "    # convert class labels from strings to binary (0,1)\n",
    "    yb = np.ones(len(y))\n",
    "    yb[np.where(y=='b')] = 0\n",
    "    \n",
    "    # sub-sample\n",
    "    if sub_sample:\n",
    "        yb = yb[::50]\n",
    "        input_data = input_data[::50]\n",
    "        ids = ids[::50]\n",
    "\n",
    "    return yb, input_data, ids"
   ]
  },
  {
   "cell_type": "code",
   "execution_count": 181,
   "metadata": {},
   "outputs": [],
   "source": [
    "#Compute sigmoid function\n",
    "def sigmoid(z):\n",
    "    #return 1 / (1+np.exp(-z))\n",
    "    #This approximation of the sigmoid function avoids exp overflow\n",
    "    return .5 * (1 + np.tanh(.5 * z))"
   ]
  },
  {
   "cell_type": "code",
   "execution_count": 213,
   "metadata": {},
   "outputs": [],
   "source": [
    "#Compute loss function\n",
    "def loss_f_lr(h, y):\n",
    "    #epsilon is added to log computations in order to avoid log(0) situations\n",
    "    epsilon = 1e-5 \n",
    "    return (-y*np.log(h+epsilon) - (1-y)*np.log(1-h+epsilon)).sum()"
   ]
  },
  {
   "cell_type": "code",
   "execution_count": 214,
   "metadata": {},
   "outputs": [],
   "source": [
    "def logistic_regression(y, tx, initial_w, max_iters, gamma):\n",
    "    \n",
    "    w = initial_w\n",
    "    h = 0\n",
    "    \n",
    "    for i in range(max_iters):\n",
    "    \n",
    "        #Compute x_t*w\n",
    "        z = np.dot(tx, w)\n",
    "        #Compute sigmoid of z\n",
    "        h = sigmoid(z)\n",
    "\n",
    "        #Compute gradient of loss function\n",
    "        gradient = np.dot(tx.T, h-y)\n",
    "        \n",
    "        #Update w according to gradient\n",
    "        w = w - gamma*gradient\n",
    "    \n",
    "    loss = loss_f_lr(h, y)\n",
    "    \n",
    "    return (w, loss)"
   ]
  },
  {
   "cell_type": "code",
   "execution_count": 215,
   "metadata": {},
   "outputs": [],
   "source": [
    "def reg_logistic_regression(y, tx, lambda_, initial_w, max_iters, gamma):\n",
    "    \n",
    "    w = initial_w\n",
    "    h = 0\n",
    "    \n",
    "    for i in range(max_iters):\n",
    "    \n",
    "        z = np.dot(tx, w)\n",
    "        h = sigmoid(z)\n",
    "\n",
    "        #The only difference with the previous function is the regularization constraint factored\n",
    "        #in the gradient computation\n",
    "        gradient = np.dot(tx.T, h-y) + lambda_*w\n",
    "        w = w - gamma*gradient\n",
    "    \n",
    "    loss = loss_f_lr(h, y) + (lambda_/2)*np.dot(w.T,w)\n",
    "    \n",
    "    return (w, loss)"
   ]
  },
  {
   "cell_type": "code",
   "execution_count": 185,
   "metadata": {},
   "outputs": [],
   "source": [
    "def predict_probs(X, w):\n",
    "    return sigmoid(np.dot(X, w))\n",
    "\n",
    "def predict(X, w, threshold=0.5):\n",
    "    return predict_probs(X, w) >= threshold"
   ]
  },
  {
   "cell_type": "code",
   "execution_count": 186,
   "metadata": {},
   "outputs": [],
   "source": [
    "iris = sklearn.datasets.load_iris()\n",
    "X = iris.data[:, :2]\n",
    "y = (iris.target != 0) * 1\n",
    "intercept = np.ones((X.shape[0], 1))\n",
    "X = np.concatenate((intercept, X), axis=1)"
   ]
  },
  {
   "cell_type": "code",
   "execution_count": 187,
   "metadata": {},
   "outputs": [],
   "source": [
    "w1, loss1 = logistic_regression(y, X, np.zeros(X.shape[1]), 100000, 0.01)"
   ]
  },
  {
   "cell_type": "code",
   "execution_count": 188,
   "metadata": {},
   "outputs": [
    {
     "data": {
      "text/plain": [
       "1.0"
      ]
     },
     "execution_count": 188,
     "metadata": {},
     "output_type": "execute_result"
    }
   ],
   "source": [
    "preds = predict(X,w1)\n",
    "(preds == y).mean()"
   ]
  },
  {
   "cell_type": "code",
   "execution_count": 189,
   "metadata": {},
   "outputs": [],
   "source": [
    "y_tr, tx, ids = load_csv_data('Data/train.csv', sub_sample=True)\n",
    "intercept = np.ones((tx.shape[0], 1))\n",
    "tx = np.concatenate((intercept, tx), axis=1)"
   ]
  },
  {
   "cell_type": "code",
   "execution_count": 190,
   "metadata": {},
   "outputs": [],
   "source": [
    "w2, loss2 = logistic_regression(y_tr, tx, np.zeros(tx.shape[1]), 100000, 0.01)"
   ]
  },
  {
   "cell_type": "code",
   "execution_count": 191,
   "metadata": {},
   "outputs": [],
   "source": [
    "y_te, tx_te, ids_te = load_csv_data('Data/test.csv', sub_sample=True)\n",
    "intercept = np.ones((tx_te.shape[0], 1))\n",
    "tx_te = np.concatenate((intercept, tx_te), axis=1)"
   ]
  },
  {
   "cell_type": "code",
   "execution_count": 192,
   "metadata": {},
   "outputs": [
    {
     "data": {
      "text/plain": [
       "0.6851737791465025"
      ]
     },
     "execution_count": 192,
     "metadata": {},
     "output_type": "execute_result"
    }
   ],
   "source": [
    "preds = predict(tx_te,w2)\n",
    "(preds == y_te).mean()"
   ]
  }
 ],
 "metadata": {
  "kernelspec": {
   "display_name": "Python 3",
   "language": "python",
   "name": "python3"
  },
  "language_info": {
   "codemirror_mode": {
    "name": "ipython",
    "version": 3
   },
   "file_extension": ".py",
   "mimetype": "text/x-python",
   "name": "python",
   "nbconvert_exporter": "python",
   "pygments_lexer": "ipython3",
   "version": "3.6.4"
  }
 },
 "nbformat": 4,
 "nbformat_minor": 2
}
